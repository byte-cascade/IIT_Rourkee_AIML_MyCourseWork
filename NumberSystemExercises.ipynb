{
 "cells": [
  {
   "cell_type": "markdown",
   "id": "cbf17364-de1d-4898-a13b-f86a512855f1",
   "metadata": {},
   "source": [
    "\n",
    "### Exercise :  Convert a number from any base (upto base 10) to base 10\n",
    "\n",
    "**Function:  convert_to_base_10**  \n",
    "> Parameters :\n",
    ">> Source Base numbering system  \n",
    ">> Number to convert to base 10\n",
    "\n",
    ">Returns :  Converted Number  (converted to base 10)  \n",
    "    \n",
    "    Note:  If a variable named DEBUG, is also defined before making the funciton call, and is set to True, then step by step execution values are also generated."
   ]
  },
  {
   "cell_type": "code",
   "execution_count": 20,
   "id": "d9994b24-fcec-40c3-bac7-a372a7860faa",
   "metadata": {},
   "outputs": [],
   "source": [
    "#  Function definitions\n",
    "\n",
    "def get_rightmost_digit(num, number_base=10):   # Returns the rightmost digit (least significant digit) in a provided number\n",
    "    #  assume base 10 if base was not provided\n",
    "    return num % number_base\n",
    "\n",
    "def log_msg(message):   # lightweight logging to screen if DEBUG variable is defined and set to true\n",
    "    is_debug_on = locals().get(\"DEBUG\", globals().get(\"DEBUG\", False))\n",
    "    if is_debug_on:\n",
    "        print(message)\n",
    "\n",
    "def convert_to_base_10( src_base, num_to_convert ):\n",
    "    num_digits = len(str(num_to_convert))\n",
    "    digit_place = 0\n",
    "    converted_digit_val = 0\n",
    "    converted_num = 0\n",
    "    \n",
    "    while num_digits > 0:\n",
    "        log_msg(f\"Num_to_convert : {num_to_convert}\")\n",
    "        \n",
    "        rightmost_digit = get_rightmost_digit(num_to_convert)\n",
    "        digit_place += 1\n",
    "        converted_digit_val = (rightmost_digit * (src_base ** (digit_place - 1)) )\n",
    "        converted_num = converted_num + converted_digit_val\n",
    "    \n",
    "        num_digits -= 1\n",
    "        if num_digits > 0 :\n",
    "            num_to_convert = int(str(num_to_convert)[0:num_digits])\n",
    "    \n",
    "        log_msg(f\"Rightmost digit: {rightmost_digit}\")\n",
    "        log_msg(f\"Digit place: {digit_place}\")\n",
    "        log_msg(f\"Converted Digit Value: {converted_digit_val}\")\n",
    "\n",
    "        if num_digits > 0:\n",
    "            log_msg(f\"Number remaining: {num_to_convert}\")\n",
    "        \n",
    "        log_msg(f\"Num digits left: {num_digits}\")\n",
    "        log_msg(\"\")\n",
    "    \n",
    "    log_msg(f\"Final answer: {converted_num}\")\n",
    "    return converted_num"
   ]
  },
  {
   "cell_type": "code",
   "execution_count": 54,
   "id": "29b9cfb9-f32f-485e-b5a8-3108763eedcc",
   "metadata": {},
   "outputs": [
    {
     "name": "stdout",
     "output_type": "stream",
     "text": [
      "Num_to_convert : 156\n",
      "Rightmost digit: 6\n",
      "Digit place: 1\n",
      "Converted Digit Value: 6\n",
      "Number remaining: 15\n",
      "Num digits left: 2\n",
      "\n",
      "Num_to_convert : 15\n",
      "Rightmost digit: 5\n",
      "Digit place: 2\n",
      "Converted Digit Value: 45\n",
      "Number remaining: 1\n",
      "Num digits left: 1\n",
      "\n",
      "Num_to_convert : 1\n",
      "Rightmost digit: 1\n",
      "Digit place: 3\n",
      "Converted Digit Value: 81\n",
      "Num digits left: 0\n",
      "\n",
      "Final answer: 132\n"
     ]
    },
    {
     "data": {
      "text/plain": [
       "132"
      ]
     },
     "execution_count": 54,
     "metadata": {},
     "output_type": "execute_result"
    }
   ],
   "source": [
    "DEBUG=True\n",
    "convert_to_base_10(9, 156)\n"
   ]
  },
  {
   "cell_type": "markdown",
   "id": "9b48c8af-c215-46b7-9ca9-c98957a054fb",
   "metadata": {},
   "source": [
    "### Exercise 2:  Write upto 3 digit numbers in any base number system  (up to base 10)\n",
    "\n",
    "**Function:  gen_nums_upto_3_digits**\n",
    ">Parameters :\n",
    ">>Base numbering system  \n",
    "\n",
    "Generates listing of numbers starting from single digit upto three digits in the provided system\n"
   ]
  },
  {
   "cell_type": "code",
   "execution_count": null,
   "id": "3eedd286-a797-45fe-bbca-cf701a284374",
   "metadata": {},
   "outputs": [],
   "source": []
  },
  {
   "cell_type": "code",
   "execution_count": 47,
   "id": "9416d78a-775a-4ddd-bc78-6b560221dc50",
   "metadata": {},
   "outputs": [],
   "source": [
    "def gen_nums_upto_3_digits(base):\n",
    "    if (base > 10):\n",
    "        print(\"Cannot generate listings for base greater than 10\")\n",
    "        return\n",
    "\n",
    "    base_cap = base - 1  # max value a digit can go upto in the base system\n",
    "    current_value = 0\n",
    "    units_value = 0\n",
    "    tens_value = 0\n",
    "    hundreds_value = 0\n",
    "\n",
    "    while hundreds_value <= base_cap:\n",
    "        \n",
    "        current_value = int( str(hundreds_value) + str(tens_value) + str(units_value) )\n",
    "        print(current_value)\n",
    "        \n",
    "        units_value += 1\n",
    "        \n",
    "        if (units_value > base_cap):\n",
    "            units_value = 0\n",
    "            tens_value += 1\n",
    "\n",
    "        if (tens_value > base_cap):\n",
    "            tens_value = 0\n",
    "            hundreds_value += 1\n",
    "\n",
    "    print(\"Listing generation completed\")\n"
   ]
  },
  {
   "cell_type": "code",
   "execution_count": 50,
   "id": "5c9650e2-36ac-4117-a15c-e298a28c9a31",
   "metadata": {},
   "outputs": [
    {
     "name": "stdout",
     "output_type": "stream",
     "text": [
      "0\n",
      "1\n",
      "2\n",
      "10\n",
      "11\n",
      "12\n",
      "20\n",
      "21\n",
      "22\n",
      "100\n",
      "101\n",
      "102\n",
      "110\n",
      "111\n",
      "112\n",
      "120\n",
      "121\n",
      "122\n",
      "200\n",
      "201\n",
      "202\n",
      "210\n",
      "211\n",
      "212\n",
      "220\n",
      "221\n",
      "222\n",
      "Listing generation completed\n"
     ]
    }
   ],
   "source": [
    "gen_nums_upto_3_digits(3)"
   ]
  },
  {
   "cell_type": "markdown",
   "id": "b13ae0b1-5d49-479f-b367-7e924b9b118a",
   "metadata": {},
   "source": [
    "### Exercise 3:  Add a single digit number in any base number system  (up to base 10)\n",
    "\n",
    "**Function:  add_single_digit**\n",
    ">Parameters :\n",
    ">>Base numbering system  \n",
    ">>Operand1  \n",
    ">>Operand2\n",
    "\n",
    ">Returns :  carry_over_digit (carried over digit), units_digit (summed rightmost digit)  \n",
    "\n",
    "Also validates that both Operand1 & Operand2 values are valid in the Base number system provided as input."
   ]
  },
  {
   "cell_type": "code",
   "execution_count": 58,
   "id": "6c757192-e569-4eed-b412-1238d23978cc",
   "metadata": {},
   "outputs": [],
   "source": [
    "def validate_digit( base, value):\n",
    "    base_cap = base - 1\n",
    "    if value > base_cap:\n",
    "        print(f\"Invalid value of {value} provided. Base {base} system cannot exceed past number {base_cap} in a digit\")\n",
    "        return False\n",
    "    else:\n",
    "        return True\n",
    "\n",
    "def add_single_digit( base, operand1, operand2):\n",
    "    base_cap = base - 1  # Max number that a single digit can go upto in the number system\n",
    "\n",
    "    if not validate_digit( base, operand1 ):\n",
    "        return 0,0\n",
    "    if not validate_digit( base, operand2 ):\n",
    "        return 0,0\n",
    "    \n",
    "    if (operand1 + operand2) > base_cap:\n",
    "        carry_over_digit = 1\n",
    "        units_digit = operand2 - (base - operand1)\n",
    "    else:\n",
    "        carry_over_digit = 0\n",
    "        units_digit = operand1 + operand2\n",
    "\n",
    "    return carry_over_digit, units_digit\n",
    "    "
   ]
  },
  {
   "cell_type": "code",
   "execution_count": 70,
   "id": "65d2b64b-fb46-46dd-97d4-b8f9fcf27f73",
   "metadata": {},
   "outputs": [
    {
     "name": "stdout",
     "output_type": "stream",
     "text": [
      "Base 5 :   4 + 4 = 1, 3 \n",
      "Base 7 :   4 + 4 = 1, 1 \n",
      "Base 9 :   6 + 8 = 1, 5 \n",
      "Base 10 :   8 + 6 = 1, 4 \n"
     ]
    }
   ],
   "source": [
    "# Tests in different base number systems\n",
    "\n",
    "carry_over_num, units_num =  add_single_digit( 5, 4, 4)  #  Addition in base 5 system\n",
    "print (f\"Base 5 :   4 + 4 = {carry_over_num}, {units_num} \")\n",
    "\n",
    "carry_over_num, units_num =  add_single_digit( 7, 4, 4)  #  Addition in base 7 system\n",
    "print (f\"Base 7 :   4 + 4 = {carry_over_num}, {units_num} \")\n",
    "\n",
    "carry_over_num, units_num =  add_single_digit( 9, 8, 6)  #  Addition in base 9 system\n",
    "print (f\"Base 9 :   6 + 8 = {carry_over_num}, {units_num} \")\n",
    "\n",
    "carry_over_num, units_num =  add_single_digit( 10, 8, 6)  #  Addition in base 10 system\n",
    "print (f\"Base 10 :   8 + 6 = {carry_over_num}, {units_num} \")"
   ]
  },
  {
   "cell_type": "markdown",
   "id": "53f44825-d6d3-48cd-9687-52e2a3bb73a8",
   "metadata": {},
   "source": [
    "### Exercise 3A:  Add all pairs of single-digit numbers in any base number system  (up to base 10)"
   ]
  },
  {
   "cell_type": "code",
   "execution_count": 69,
   "id": "f9a0c976-403e-4311-8c64-0d6f769e2015",
   "metadata": {},
   "outputs": [
    {
     "name": "stdout",
     "output_type": "stream",
     "text": [
      "Base 7 :   0 + 0 = 0, 0 \n",
      "Base 7 :   0 + 1 = 0, 1 \n",
      "Base 7 :   0 + 2 = 0, 2 \n",
      "Base 7 :   0 + 3 = 0, 3 \n",
      "Base 7 :   0 + 4 = 0, 4 \n",
      "Base 7 :   0 + 5 = 0, 5 \n",
      "Base 7 :   0 + 6 = 0, 6 \n",
      "\n",
      "Base 7 :   1 + 0 = 0, 1 \n",
      "Base 7 :   1 + 1 = 0, 2 \n",
      "Base 7 :   1 + 2 = 0, 3 \n",
      "Base 7 :   1 + 3 = 0, 4 \n",
      "Base 7 :   1 + 4 = 0, 5 \n",
      "Base 7 :   1 + 5 = 0, 6 \n",
      "Base 7 :   1 + 6 = 1, 0 \n",
      "\n",
      "Base 7 :   2 + 0 = 0, 2 \n",
      "Base 7 :   2 + 1 = 0, 3 \n",
      "Base 7 :   2 + 2 = 0, 4 \n",
      "Base 7 :   2 + 3 = 0, 5 \n",
      "Base 7 :   2 + 4 = 0, 6 \n",
      "Base 7 :   2 + 5 = 1, 0 \n",
      "Base 7 :   2 + 6 = 1, 1 \n",
      "\n",
      "Base 7 :   3 + 0 = 0, 3 \n",
      "Base 7 :   3 + 1 = 0, 4 \n",
      "Base 7 :   3 + 2 = 0, 5 \n",
      "Base 7 :   3 + 3 = 0, 6 \n",
      "Base 7 :   3 + 4 = 1, 0 \n",
      "Base 7 :   3 + 5 = 1, 1 \n",
      "Base 7 :   3 + 6 = 1, 2 \n",
      "\n",
      "Base 7 :   4 + 0 = 0, 4 \n",
      "Base 7 :   4 + 1 = 0, 5 \n",
      "Base 7 :   4 + 2 = 0, 6 \n",
      "Base 7 :   4 + 3 = 1, 0 \n",
      "Base 7 :   4 + 4 = 1, 1 \n",
      "Base 7 :   4 + 5 = 1, 2 \n",
      "Base 7 :   4 + 6 = 1, 3 \n",
      "\n",
      "Base 7 :   5 + 0 = 0, 5 \n",
      "Base 7 :   5 + 1 = 0, 6 \n",
      "Base 7 :   5 + 2 = 1, 0 \n",
      "Base 7 :   5 + 3 = 1, 1 \n",
      "Base 7 :   5 + 4 = 1, 2 \n",
      "Base 7 :   5 + 5 = 1, 3 \n",
      "Base 7 :   5 + 6 = 1, 4 \n",
      "\n",
      "Base 7 :   6 + 0 = 0, 6 \n",
      "Base 7 :   6 + 1 = 1, 0 \n",
      "Base 7 :   6 + 2 = 1, 1 \n",
      "Base 7 :   6 + 3 = 1, 2 \n",
      "Base 7 :   6 + 4 = 1, 3 \n",
      "Base 7 :   6 + 5 = 1, 4 \n",
      "Base 7 :   6 + 6 = 1, 5 \n",
      "\n",
      "Listing completed\n"
     ]
    }
   ],
   "source": [
    "base = 7\n",
    "counter = 0\n",
    "carry_over_num = 0\n",
    "units_num = 0\n",
    "\n",
    "for i in range( 0, base):\n",
    "    for j in range( 0, base):\n",
    "        carry_over_num, units_num =  add_single_digit( base, i, j)\n",
    "        print (f\"Base {base} :   {i} + {j} = {carry_over_num}, {units_num} \")\n",
    "    print(\"\")\n",
    "\n",
    "print(\"Listing completed\")\n",
    "    "
   ]
  },
  {
   "cell_type": "code",
   "execution_count": null,
   "id": "5ba274d2-1589-412b-9aa0-debf430de3e3",
   "metadata": {},
   "outputs": [],
   "source": []
  }
 ],
 "metadata": {
  "kernelspec": {
   "display_name": "Python 3 (ipykernel)",
   "language": "python",
   "name": "python3"
  },
  "language_info": {
   "codemirror_mode": {
    "name": "ipython",
    "version": 3
   },
   "file_extension": ".py",
   "mimetype": "text/x-python",
   "name": "python",
   "nbconvert_exporter": "python",
   "pygments_lexer": "ipython3",
   "version": "3.13.5"
  }
 },
 "nbformat": 4,
 "nbformat_minor": 5
}
