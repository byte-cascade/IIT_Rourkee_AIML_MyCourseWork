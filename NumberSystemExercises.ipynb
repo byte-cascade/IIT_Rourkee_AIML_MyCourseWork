{
 "cells": [
  {
   "cell_type": "markdown",
   "id": "cbf17364-de1d-4898-a13b-f86a512855f1",
   "metadata": {},
   "source": [
    "\n",
    "### Exercise :  Convert a number from any base (upto base 10) to base 10\n",
    "\n",
    "**Function:  convert_to_base_10**  \n",
    "> Parameters :\n",
    ">> Source Base numbering system  \n",
    ">> Number to convert to base 10\n",
    "\n",
    ">Returns :  Converted Number  (converted to base 10)  \n",
    "    \n",
    "    Note:  If a variable named DEBUG, is also defined before making the funciton call, and is set to True, then step by step execution values are also generated."
   ]
  },
  {
   "cell_type": "code",
   "execution_count": 20,
   "id": "d9994b24-fcec-40c3-bac7-a372a7860faa",
   "metadata": {},
   "outputs": [],
   "source": [
    "#  Function definitions\n",
    "\n",
    "def get_rightmost_digit(num, number_base=10):   # Returns the rightmost digit (least significant digit) in a provided number\n",
    "    #  assume base 10 if base was not provided\n",
    "    return num % number_base\n",
    "\n",
    "def log_msg(message):   # lightweight logging to screen if DEBUG variable is defined and set to true\n",
    "    is_debug_on = locals().get(\"DEBUG\", globals().get(\"DEBUG\", False))\n",
    "    if is_debug_on:\n",
    "        print(message)\n",
    "\n",
    "def convert_to_base_10( src_base, num_to_convert ):\n",
    "    num_digits = len(str(num_to_convert))\n",
    "    digit_place = 0\n",
    "    converted_digit_val = 0\n",
    "    converted_num = 0\n",
    "    \n",
    "    while num_digits > 0:\n",
    "        log_msg(f\"Num_to_convert : {num_to_convert}\")\n",
    "        \n",
    "        rightmost_digit = get_rightmost_digit(num_to_convert)\n",
    "        digit_place += 1\n",
    "        converted_digit_val = (rightmost_digit * (src_base ** (digit_place - 1)) )\n",
    "        converted_num = converted_num + converted_digit_val\n",
    "    \n",
    "        num_digits -= 1\n",
    "        if num_digits > 0 :\n",
    "            num_to_convert = int(str(num_to_convert)[0:num_digits])\n",
    "    \n",
    "        log_msg(f\"Rightmost digit: {rightmost_digit}\")\n",
    "        log_msg(f\"Digit place: {digit_place}\")\n",
    "        log_msg(f\"Converted Digit Value: {converted_digit_val}\")\n",
    "\n",
    "        if num_digits > 0:\n",
    "            log_msg(f\"Number remaining: {num_to_convert}\")\n",
    "        \n",
    "        log_msg(f\"Num digits left: {num_digits}\")\n",
    "        log_msg(\"\")\n",
    "    \n",
    "    log_msg(f\"Final answer: {converted_num}\")\n",
    "    return converted_num"
   ]
  },
  {
   "cell_type": "code",
   "execution_count": 23,
   "id": "29b9cfb9-f32f-485e-b5a8-3108763eedcc",
   "metadata": {},
   "outputs": [
    {
     "data": {
      "text/plain": [
       "5564"
      ]
     },
     "execution_count": 23,
     "metadata": {},
     "output_type": "execute_result"
    }
   ],
   "source": [
    "DEBUG=False\n",
    "convert_to_base_10(7, 22136)\n"
   ]
  },
  {
   "cell_type": "markdown",
   "id": "b13ae0b1-5d49-479f-b367-7e924b9b118a",
   "metadata": {},
   "source": [
    "### Exercise 3:  Add a single digit number in any base number system  (up to base 10)\n",
    "\n",
    "**Function:  add_single_digit**\n",
    ">Parameters :\n",
    ">>Base numbering system  \n",
    ">>Operand1  \n",
    ">>Operand2\n",
    "\n",
    ">Returns :  carry_over_digit (carried over digit), units_digit (summed rightmost digit)  \n",
    "\n",
    "Also validates that both Operand1 & Operand2 values are valid in the Base number system provided as input."
   ]
  },
  {
   "cell_type": "code",
   "execution_count": 25,
   "id": "6c757192-e569-4eed-b412-1238d23978cc",
   "metadata": {},
   "outputs": [],
   "source": [
    "def validate_digit( base, value):\n",
    "    base_cap = base - 1\n",
    "    if value > base_cap:\n",
    "        print(f\"Invalid value of {value} provided. Base {base} system cannot exceed past number {base_cap} in a digit\")\n",
    "        return False\n",
    "    else:\n",
    "        return True\n",
    "\n",
    "def add_single_digit( base, operand1, operand2):\n",
    "    base_cap = base - 1  # Max number that a single digit can go upto in the number system\n",
    "\n",
    "    if not validate_digit( base, operand1 ):\n",
    "        return 0,0\n",
    "    if not validate_digit( base, operand2 ):\n",
    "        return 0,0\n",
    "    \n",
    "    if (operand1 + operand2) > base_cap:\n",
    "        carry_over_digit = 1\n",
    "        units_digit = operand2 - (base - operand1)\n",
    "    else:\n",
    "        carry_over_digit = 0\n",
    "        units_digit = operand1 + operand2\n",
    "\n",
    "    return carry_over_digit, units_digit\n",
    "    "
   ]
  },
  {
   "cell_type": "code",
   "execution_count": 26,
   "id": "65d2b64b-fb46-46dd-97d4-b8f9fcf27f73",
   "metadata": {},
   "outputs": [
    {
     "name": "stdout",
     "output_type": "stream",
     "text": [
      "Base 5 :   4 + 4 = 1, 3 \n",
      "Base 7 :   4 + 4 = 1, 1 \n",
      "Base 9 :   8 + 6 = 1, 5 \n",
      "Base 10 :   8 + 6 = 1, 4 \n"
     ]
    }
   ],
   "source": [
    "carry_over_num, units_num =  add_single_digit( 5, 4, 4)  #  Addition in base 5 system\n",
    "print (f\"Base 5 :   4 + 4 = {carry_over_num}, {units_num} \")\n",
    "\n",
    "carry_over_num, units_num =  add_single_digit( 7, 4, 4)  #  Addition in base 7 system\n",
    "print (f\"Base 7 :   4 + 4 = {carry_over_num}, {units_num} \")\n",
    "\n",
    "carry_over_num, units_num =  add_single_digit( 9, 8, 6)  #  Addition in base 9 system\n",
    "print (f\"Base 9 :   8 + 6 = {carry_over_num}, {units_num} \")\n",
    "\n",
    "carry_over_num, units_num =  add_single_digit( 10, 8, 6)  #  Addition in base 10 system\n",
    "print (f\"Base 10 :   8 + 6 = {carry_over_num}, {units_num} \")"
   ]
  },
  {
   "cell_type": "code",
   "execution_count": null,
   "id": "fca9843b-14e6-4b72-a517-a4bfcd1b82f6",
   "metadata": {},
   "outputs": [],
   "source": []
  }
 ],
 "metadata": {
  "kernelspec": {
   "display_name": "Python 3 (ipykernel)",
   "language": "python",
   "name": "python3"
  },
  "language_info": {
   "codemirror_mode": {
    "name": "ipython",
    "version": 3
   },
   "file_extension": ".py",
   "mimetype": "text/x-python",
   "name": "python",
   "nbconvert_exporter": "python",
   "pygments_lexer": "ipython3",
   "version": "3.13.5"
  }
 },
 "nbformat": 4,
 "nbformat_minor": 5
}
