{
 "cells": [
  {
   "cell_type": "markdown",
   "id": "7abafecd-2cc8-4c4e-aa2d-db6b63700ecd",
   "metadata": {},
   "source": [
    "\n",
    "### Definitions of common functions utilized in code below"
   ]
  },
  {
   "cell_type": "code",
   "execution_count": 34,
   "id": "398344bf-0611-4dd6-b5a9-80c6ad04ac4b",
   "metadata": {},
   "outputs": [],
   "source": [
    "\n",
    "##  Definitions of all common functions being utilized below\n",
    "\n",
    "def log_msg(message):   # lightweight logging to screen if DEBUG variable is defined and set to true\n",
    "    is_debug_on = locals().get(\"DEBUG\", globals().get(\"DEBUG\", False))\n",
    "    if is_debug_on:\n",
    "        print(message)\n"
   ]
  },
  {
   "cell_type": "markdown",
   "id": "a2c518e2-cf75-4eab-a9d1-7f19e5d0d347",
   "metadata": {},
   "source": [
    "# Chapter 3. If - Else + Recursion:\n",
    "\n",
    "## Factorial using recursion\n",
    "\n",
    "**Topic:** *Factorial using Recursion*\n",
    "\n",
    "---\n",
    "\n",
    "### **Simple Explanation:**\n",
    "\n",
    "A **factorial** of a number is the result of multiplying all whole numbers from that number down to 1.\n",
    "\n",
    "For example:\n",
    "\n",
    "* The factorial of 5 is: `5 × 4 × 3 × 2 × 1 = 120`\n",
    "* The factorial of 3 is: `3 × 2 × 1 = 6`\n",
    "* The factorial of 1 is: `1`\n",
    "\n",
    "The factorial of 0 is defined as **1** (by convention).\n",
    "\n",
    "Now, there's a smart way to compute factorials using something called **recursion**. In recursion, a function calls itself with a smaller input to eventually solve a problem.\n",
    "\n",
    "Example logic:\n",
    "\n",
    "* factorial(5) = 5 × factorial(4)\n",
    "* factorial(4) = 4 × factorial(3)\n",
    "* ...\n",
    "* factorial(1) = 1 (this is called the *base case*)\n",
    "\n",
    "So it keeps breaking the problem into smaller parts until it reaches 1.\n",
    "\n",
    "---\n",
    "\n",
    "### **Exercise:**\n",
    "\n",
    "Write a function `factorial_recursive(n)` that takes one argument `n` (a non-negative integer) and returns the factorial of that number using recursion.\n",
    "\n",
    "If `n` is 0, the function should return 1.\n"
   ]
  },
  {
   "cell_type": "code",
   "execution_count": 14,
   "id": "3a51ea9a-ef15-4fed-99fa-2ecb62836393",
   "metadata": {},
   "outputs": [],
   "source": [
    "def factorial_recursive(n):\n",
    "    if n == 0 :\n",
    "        return 1\n",
    "\n",
    "    factorial = factorial_recursive(n - 1)\n",
    "    return factorial * n"
   ]
  },
  {
   "cell_type": "code",
   "execution_count": 19,
   "id": "a56ab8b4-0ff7-4c4d-a979-c7047cee960d",
   "metadata": {},
   "outputs": [
    {
     "name": "stdout",
     "output_type": "stream",
     "text": [
      "Factorial of 6 is : 720\n"
     ]
    }
   ],
   "source": [
    "n = 6\n",
    "factorial = factorial_recursive(n)\n",
    "print(f\"Factorial of {n} is : {factorial}\")"
   ]
  },
  {
   "cell_type": "markdown",
   "id": "700ded6c-f4a2-4cb2-9ba7-d4f5cabdc8b3",
   "metadata": {},
   "source": [
    "## Multiplication using recursion\n",
    "\n",
    "### **Topic:** *Multiplication using Recursion*\n",
    "\n",
    "#### **Simple Explanation:**\n",
    "\n",
    "Multiplication means adding a number to itself a certain number of times.\n",
    "For example, 4 multiplied by 3 means:\n",
    "`4 + 4 + 4 = 12`.\n",
    "\n",
    "Recursion means a function that calls itself to solve smaller versions of the same problem.\n",
    "Instead of using the `*` (multiplication) operator directly, you can use recursion to repeatedly add a number.\n",
    "\n",
    "So, to multiply `a` and `b`, you can add `a` to the result of multiplying `a` and `b-1`.\n",
    "\n",
    "Also, consider that:\n",
    "\n",
    "* If `b` is 0, the result is 0 (anything multiplied by 0 is 0).\n",
    "* If `b` is negative, handle it by converting to positive, and then negating the result.\n",
    "\n",
    "### **Exercise:**\n",
    "\n",
    "Write a function `multiply_recursive(a, b)` that multiplies two integers using recursion (without using the `*` operator).\n",
    "\n",
    "* `a`: the first number (int)\n",
    "* `b`: the second number (int)\n",
    "\n",
    "Return the product of `a` and `b`.\n"
   ]
  },
  {
   "cell_type": "code",
   "execution_count": 25,
   "id": "069e8e1d-16d9-4fcd-98d0-93893748410f",
   "metadata": {},
   "outputs": [],
   "source": [
    "def multiply_recursive( multiplicand, multiplier ):\n",
    "    if multiplier == 0:\n",
    "        return 0\n",
    "    result = multiplicand + multiply_recursive(multiplicand, abs(multiplier) - 1)\n",
    "    \n",
    "    if multiplier < 0:  # negative multiplier\n",
    "        result = result * -1\n",
    "    return result\n"
   ]
  },
  {
   "cell_type": "code",
   "execution_count": 26,
   "id": "038633d9-8583-45b2-bacf-5c2c3902e5e7",
   "metadata": {},
   "outputs": [
    {
     "name": "stdout",
     "output_type": "stream",
     "text": [
      "210\n",
      "-45\n",
      "-20\n",
      "60\n",
      "0\n",
      "0\n",
      "0\n"
     ]
    }
   ],
   "source": [
    "print( multiply_recursive(21,10) )\n",
    "print( multiply_recursive(15, -3) )  # negative multiplier\n",
    "print( multiply_recursive(-4, 5) )   # negative multiplicand\n",
    "print( multiply_recursive(-4, -15) )  # negative multiplicand and negative multiplier\n",
    "print( multiply_recursive(1,0) )\n",
    "print( multiply_recursive(0,1) )\n",
    "print( multiply_recursive(0,0) )"
   ]
  },
  {
   "cell_type": "markdown",
   "id": "4379d0d5-6f18-47a2-9ec3-7566eedd6217",
   "metadata": {},
   "source": [
    "## Exponentiation using recursion\n",
    "\n",
    "### **Topic:** *Exponentiation using Recursion*\n",
    "\n",
    "### **Exercise:**\n",
    "\n",
    "Write a function `exponent_recursive(a, b)` that provides result of a raised to the power of b, using recursion (without using the `**` operator).\n",
    "\n",
    "* `a`: the first number (int)\n",
    "* `b`: the second number (int)\n",
    "\n",
    "Return the result of `a` raised to the power of `b`.\n"
   ]
  },
  {
   "cell_type": "code",
   "execution_count": 27,
   "id": "77e84a71-7f60-46ca-abff-37456ca881fc",
   "metadata": {},
   "outputs": [],
   "source": [
    "\n",
    "def exponent_recursive( base, exponent ):\n",
    "    result = 1\n",
    "    if exponent == 0:\n",
    "        return 1\n",
    "    return (base * exponent_recursive( base, (exponent - 1)))\n",
    "    "
   ]
  },
  {
   "cell_type": "code",
   "execution_count": 28,
   "id": "756eed00-4144-4bd4-8c20-aea8471800e1",
   "metadata": {},
   "outputs": [
    {
     "name": "stdout",
     "output_type": "stream",
     "text": [
      "16679880978201\n",
      "3375\n",
      "1073741824\n",
      "1\n",
      "0\n",
      "1\n"
     ]
    }
   ],
   "source": [
    "print( exponent_recursive(21,10) )\n",
    "print( exponent_recursive(15, 3) )\n",
    "print( exponent_recursive(4, 15) )\n",
    "print( exponent_recursive(1,0) )\n",
    "print( exponent_recursive(0,1) )\n",
    "print( exponent_recursive(0,0) )\n"
   ]
  },
  {
   "cell_type": "markdown",
   "id": "79f31fdf-bedf-4fab-9b45-6eb97dc01c18",
   "metadata": {},
   "source": [
    "## Division using recursion to find quotient and remainder\n",
    "\n",
    "### **Topic:** *Division using Recursion to Find Quotient and Remainder*\n",
    "\n",
    "#### **Simple Explanation:**\n",
    "\n",
    "Division is the process of finding how many times one number (called the **divisor**) fits into another number (called the **dividend**).\n",
    "For example, in `17 ÷ 5`, the number 5 fits into 17 **three** times (that’s the **quotient**) and there are **2** left over (that’s the **remainder**), because:\n",
    "\n",
    "```\n",
    "5 + 5 + 5 = 15, and 17 - 15 = 2  \n",
    "So, 17 ÷ 5 gives quotient = 3 and remainder = 2\n",
    "```\n",
    "\n",
    "**Recursion** means solving a problem by breaking it into smaller versions of the same problem. In this case, we repeatedly subtract the divisor from the dividend and count how many times we do it until what’s left is smaller than the divisor (that’s the remainder).\n",
    "\n",
    "---\n",
    "\n",
    "### **Exercise:**\n",
    "\n",
    "Write a function `recursive_divide(dividend, divisor)` that returns a tuple `(quotient, remainder)` using recursion.\n",
    "You **must not** use the `//` or `%` operators.\n",
    "\n",
    "* `dividend`: a non-negative integer\n",
    "* `divisor`: a positive integer\n",
    "\n",
    "**Return:** A tuple of two integers: `(quotient, remainder)`"
   ]
  },
  {
   "cell_type": "code",
   "execution_count": 31,
   "id": "fa47deb1-c648-4558-8d85-8a959afb8a75",
   "metadata": {},
   "outputs": [],
   "source": [
    "\n",
    "def recursive_divide(dividend, divisor, indent=0):\n",
    "    print(f\"{'  ' * indent}Inputs : dividend: {dividend}, divisor: {divisor}\")\n",
    "\n",
    "    next_dividend = dividend - divisor\n",
    "    if next_dividend < 0:  # Can it be divided any further?\n",
    "        return 0, dividend\n",
    "\n",
    "    quotient, remainder = recursive_divide(next_dividend, divisor, indent + 1)\n",
    "    quotient += 1\n",
    "    \n",
    "    print(f\"{'  ' * indent}Outputs : Quotient: {quotient}, Remainder: {remainder}\")\n",
    "    return quotient, remainder\n"
   ]
  },
  {
   "cell_type": "code",
   "execution_count": 32,
   "id": "cfd9cb13-d0ba-4f6c-b662-53cc89374129",
   "metadata": {},
   "outputs": [
    {
     "name": "stdout",
     "output_type": "stream",
     "text": [
      "Inputs : dividend: 309, divisor: 62\n",
      "  Inputs : dividend: 247, divisor: 62\n",
      "    Inputs : dividend: 185, divisor: 62\n",
      "      Inputs : dividend: 123, divisor: 62\n",
      "        Inputs : dividend: 61, divisor: 62\n",
      "      Outputs : Quotient: 1, Remainder: 61\n",
      "    Outputs : Quotient: 2, Remainder: 61\n",
      "  Outputs : Quotient: 3, Remainder: 61\n",
      "Outputs : Quotient: 4, Remainder: 61\n",
      "\n",
      "309 / 62 =  Quotient = 4, Remainder = 61\n"
     ]
    }
   ],
   "source": [
    "dividend = 309\n",
    "divisor = 62\n",
    "quotient, remainder = recursive_divide( dividend, divisor)\n",
    "print(f\"\\n{dividend} / {divisor} =  Quotient = {quotient}, Remainder = {remainder}\") "
   ]
  },
  {
   "cell_type": "markdown",
   "id": "7110d713-885f-498e-ace2-3e2e7205d23f",
   "metadata": {},
   "source": [
    "## Compute HCF using Euclid's Method with Recursion*\n",
    "\n",
    "**Topic:** *Compute HCF using Euclid's Method with Recursion*\n",
    "\n",
    "---\n",
    "\n",
    "### **Explanation:**\n",
    "\n",
    "HCF stands for **Highest Common Factor**, also known as **GCD (Greatest Common Divisor)**. It is the largest number that evenly divides two numbers.\n",
    "\n",
    "For example:\n",
    "\n",
    "* The HCF of 12 and 18 is 6, because 6 is the biggest number that divides both 12 and 18 without a remainder.\n",
    "\n",
    "**Euclid’s Method** is a smart and efficient way to compute the HCF. It works like this:\n",
    "\n",
    "* If `b` is 0, the HCF is `a`.\n",
    "* Otherwise, HCF of `a` and `b` is the same as the HCF of `b` and `a % b`.\n",
    "\n",
    "This method keeps reducing the problem until it finds the HCF. We can use **recursion** to apply this method repeatedly until we get the answer.\n",
    "\n",
    "---\n",
    "\n",
    "### **Exercise:**\n",
    "\n",
    "Write a function named `compute_hcf(a, b)` that takes two positive integers `a` and `b` and returns their HCF using Euclid's method with recursion.\n",
    "\n",
    "* You should **use recursion** to solve this problem.\n",
    "* The function should return an integer."
   ]
  },
  {
   "cell_type": "code",
   "execution_count": 9,
   "id": "21742b2b-9c68-4747-a681-b41bed3f18fd",
   "metadata": {},
   "outputs": [],
   "source": [
    "      \n",
    "def compute_hcf(a, b):\n",
    "    print(f\"a : {a}, b : {b}, a % b : {(a%b) if b > 0 else 0}\")\n",
    "    if b == 0:\n",
    "        return a\n",
    "    return compute_hcf(b, (a % b))\n"
   ]
  },
  {
   "cell_type": "code",
   "execution_count": 10,
   "id": "7ab809f2-084b-4c2a-97fb-2133f0966253",
   "metadata": {},
   "outputs": [
    {
     "name": "stdout",
     "output_type": "stream",
     "text": [
      "a : 270, b : 72, a % b : 54\n",
      "a : 72, b : 54, a % b : 18\n",
      "a : 54, b : 18, a % b : 0\n",
      "a : 18, b : 0, a % b : 0\n",
      "\n",
      "HCF of 270,72 = 18\n"
     ]
    }
   ],
   "source": [
    "a = 270\n",
    "b = 72\n",
    "result = compute_hcf(a,b)\n",
    "print(f\"\\nHCF of {a},{b} = {result}\") "
   ]
  },
  {
   "cell_type": "markdown",
   "id": "c7085d9e-d45f-4546-9030-5236778133da",
   "metadata": {},
   "source": [
    "## Tower of hanoi using recursion. \n",
    "\n",
    "**Topic:** *Tower of Hanoi (Recursion)*\n",
    "**Explanation:** You have three pegs: **A** (source), **B** (auxiliary), and **C** (target). A stack of discs sits on **A**, smallest on top. You must move the whole stack to **C** by moving one disc at a time and never placing a larger disc on a smaller one.\n",
    "Recursion idea:\n",
    "\n",
    "* For **1 disc**: move disc 1 from **A** to **C**.\n",
    "* For **2 discs**: move disc 1 from **A**→**B**, move disc 2 from **A**→**C**, move disc 1 from **B**→**C**.\n",
    "* For **3 discs**: first solve the 2-disc problem **A**→**B**, then move disc 3 **A**→**C**, then solve the 2-disc problem **B**→**C**.\n",
    "  General rule for **n**:\n",
    "\n",
    "1. Move **n−1** discs from **source** to **auxiliary**, 2) move disc **n** from **source** to **target**, 3) move **n−1** discs from **auxiliary** to **target**.\n",
    "\n",
    "**Exercise:**\n",
    "Write a function `solve_hanoi(n, source='A', auxiliary='B', target='C')` that:\n",
    "\n",
    "* Prints each move exactly in the format: `Moving <disc> from <source> to <target>.`\n",
    "* Uses recursion: base case `n == 1`, recursive case for `n > 1` using the general rule above.\n",
    "* Returns the **total number of moves** performed.\n",
    "\n",
    "**Example:**\n",
    "\n",
    "```python\n",
    "# 1 disc\n",
    "solve_hanoi(1)\n",
    "# Output:\n",
    "# Moving 1 from A to C.\n",
    "# Returns: 1\n",
    "```\n",
    "\n",
    "```python\n",
    "# 2 discs\n",
    "solve_hanoi(2)\n",
    "# Output:\n",
    "# Moving 1 from A to B.\n",
    "# Moving 2 from A to C.\n",
    "# Moving 1 from B to C.\n",
    "# Returns: 3\n",
    "```\n",
    "\n",
    "```python\n",
    "# 3 discs\n",
    "solve_hanoi(3)\n",
    "# Output:\n",
    "# Moving 1 from A to C.\n",
    "# Moving 2 from A to B.\n",
    "# Moving 1 from C to B.\n",
    "# Moving 3 from A to C.\n",
    "# Moving 1 from B to A.\n",
    "# Moving 2 from B to C.\n",
    "# Moving 1 from A to C.\n",
    "# Returns: 7\n",
    "```\n"
   ]
  },
  {
   "cell_type": "markdown",
   "id": "4b862d8e-f4c7-4450-9855-da77d319f6e6",
   "metadata": {},
   "source": [
    "## Solution :  To Be Done\n",
    "\n",
    "Tower of Hanoi has been discussed in Session 9.  Review again."
   ]
  },
  {
   "cell_type": "markdown",
   "id": "280142ee-f2e4-4871-875e-99d27a53c31b",
   "metadata": {},
   "source": [
    "# Find minimum in a list"
   ]
  },
  {
   "cell_type": "code",
   "execution_count": 35,
   "id": "bd380aab-0937-42a0-9907-7a861ecffd8f",
   "metadata": {},
   "outputs": [],
   "source": [
    "def find_minima(num_list):\n",
    "    log_msg(f\"Input array : {num_list}\")\n",
    "    \n",
    "    minimum = 0\n",
    "    if len(num_list) == 1:\n",
    "        return num_list[0]\n",
    "        \n",
    "    midpoint = len(num_list) // 2\n",
    "    left_array = num_list[:midpoint]\n",
    "    right_array = num_list[(midpoint):]\n",
    "    \n",
    "    log_msg(f\"Midpoint : {midpoint}\")\n",
    "    log_msg(f\"Left Array : {left_array}\")\n",
    "    log_msg(f\"Right Array : {right_array}\")\n",
    "    log_msg(\"\")\n",
    "\n",
    "    if left_array[-1] < right_array[0]:\n",
    "        minimum = find_minima(left_array)\n",
    "    else:\n",
    "        minimum = find_minima(right_array)\n",
    "    \n",
    "    return minimum"
   ]
  },
  {
   "cell_type": "code",
   "execution_count": 36,
   "id": "53ea5779-ab7a-4332-ad20-9038dd901125",
   "metadata": {},
   "outputs": [
    {
     "name": "stdout",
     "output_type": "stream",
     "text": [
      "Result of find_minima : 25\n"
     ]
    }
   ],
   "source": [
    "result = find_minima([100,80,90,50,40,35,25,30,45,60,100,110])\n",
    "print(f\"Result of find_minima : {result}\")\n"
   ]
  },
  {
   "cell_type": "code",
   "execution_count": 41,
   "id": "34a7ddb2-1bfb-4c9d-b54b-75c21552648f",
   "metadata": {},
   "outputs": [
    {
     "name": "stdout",
     "output_type": "stream",
     "text": [
      "Result of find_minima : 45\n"
     ]
    }
   ],
   "source": [
    "result = find_minima([210,190,110,45,50,55,65,70,75,80,90,100,110,120,140])\n",
    "print(f\"Result of find_minima : {result}\")"
   ]
  },
  {
   "cell_type": "code",
   "execution_count": null,
   "id": "c21af27c-8c07-486a-82ba-1ea0bfd3a3a9",
   "metadata": {},
   "outputs": [],
   "source": []
  }
 ],
 "metadata": {
  "kernelspec": {
   "display_name": "Python 3 (ipykernel)",
   "language": "python",
   "name": "python3"
  },
  "language_info": {
   "codemirror_mode": {
    "name": "ipython",
    "version": 3
   },
   "file_extension": ".py",
   "mimetype": "text/x-python",
   "name": "python",
   "nbconvert_exporter": "python",
   "pygments_lexer": "ipython3",
   "version": "3.13.5"
  }
 },
 "nbformat": 4,
 "nbformat_minor": 5
}
