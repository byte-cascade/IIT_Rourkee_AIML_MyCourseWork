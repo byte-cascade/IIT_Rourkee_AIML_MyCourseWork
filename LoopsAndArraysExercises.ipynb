{
 "cells": [
  {
   "cell_type": "markdown",
   "id": "7abafecd-2cc8-4c4e-aa2d-db6b63700ecd",
   "metadata": {},
   "source": [
    "\n",
    "### Definitions of common functions utilized in code below"
   ]
  },
  {
   "cell_type": "code",
   "execution_count": 1,
   "id": "398344bf-0611-4dd6-b5a9-80c6ad04ac4b",
   "metadata": {},
   "outputs": [],
   "source": [
    "\n",
    "##  Definitions of all common functions being utilized below\n",
    "\n",
    "def log_msg(message):   # lightweight logging to screen if DEBUG variable is defined and set to true\n",
    "    is_debug_on = locals().get(\"DEBUG\", globals().get(\"DEBUG\", False))\n",
    "    if is_debug_on:\n",
    "        print(message)\n"
   ]
  },
  {
   "cell_type": "markdown",
   "id": "ac8078a9-f9c9-480e-8ba2-8f0c8774ca1a",
   "metadata": {},
   "source": [
    "## Find Minimum and Maximum of a List\n",
    "\n",
    "### Explanation:\n",
    "\n",
    "When you have a list of numbers, sometimes you want to know the **smallest number** (called the *minimum*) and the **largest number** (called the *maximum*) in that list.\n",
    "For example, in the list `[5, 8, 2, 10, 3]`, the smallest number is `2` and the largest number is `10`.\n",
    "\n",
    "Finding the minimum and maximum is useful in many real-world cases. For example:\n",
    "\n",
    "* In exam scores, the minimum score shows the lowest marks obtained by a student, and the maximum shows the highest marks.\n",
    "* In weather data, the minimum temperature tells the coldest reading of the day, and the maximum shows the hottest reading.\n",
    "\n",
    "---\n",
    "\n",
    "### Exercise:\n",
    "\n",
    "Write a function `find_min_max(numbers)` that takes a list of numbers as input and returns a tuple `(minimum, maximum)`.\n",
    "\n",
    "---\n",
    "\n",
    "### Example:\n",
    "\n",
    "```python\n",
    "find_min_max([5, 8, 2, 10, 3])  \n",
    "# Output: (2, 10)\n",
    "\n",
    "find_min_max([7, 7, 7, 7])  \n",
    "# Output: (7, 7)"
   ]
  },
  {
   "cell_type": "code",
   "execution_count": 14,
   "id": "c2824f3d-7978-479b-b702-05611b04139f",
   "metadata": {},
   "outputs": [],
   "source": [
    "def find_min_max_numbers(numbers_list):\n",
    "    min_number = 0\n",
    "    max_number = 0\n",
    "    \n",
    "    for i in numbers_list:\n",
    "        if i <= min_number or min_number == 0:\n",
    "            min_number = i\n",
    "        elif i >= max_number :\n",
    "            max_number = i\n",
    "\n",
    "    return min_number, max_number\n"
   ]
  },
  {
   "cell_type": "code",
   "execution_count": 17,
   "id": "0aee7584-d7cf-4bef-9b16-63a9c6b3bbc6",
   "metadata": {},
   "outputs": [
    {
     "data": {
      "text/plain": [
       "(3, 35)"
      ]
     },
     "execution_count": 17,
     "metadata": {},
     "output_type": "execute_result"
    }
   ],
   "source": [
    "find_min_max_numbers([10,35,3,6,15,21])"
   ]
  },
  {
   "cell_type": "markdown",
   "id": "f874d096-637e-4463-8195-a7ceff240828",
   "metadata": {},
   "source": [
    "## Min-Max Normalization\n",
    "\n",
    "### Explanation:\n",
    "\n",
    "When we have numbers that are very different in scale (like exam scores out of 100 and salaries in thousands), it becomes hard to compare them directly.\n",
    "**Min-Max Normalization** is a way to rescale numbers so that they fall in a fixed range, usually **0 to 1**.\n",
    "\n",
    "The formula is:\n",
    "\n",
    "$$\n",
    "\\text{normalized value} = \\frac{(x - \\min)}{(\\max - \\min)}\n",
    "$$\n",
    "\n",
    "* `x` = the original value\n",
    "* `min` = the smallest value in the dataset\n",
    "* `max` = the largest value in the dataset\n",
    "\n",
    "For example, if your dataset is `[10, 20, 30]` and you want to normalize `20`:\n",
    "\n",
    "$$\n",
    "\\frac{20 - 10}{30 - 10} = \\frac{10}{20} = 0.5\n",
    "$$\n",
    "\n",
    "So the normalized value is **0.5**.\n",
    "\n",
    "---\n",
    "\n",
    "### Exercise:\n",
    "\n",
    "Write a function `min_max_normalize(value, data)` that:\n",
    "\n",
    "* Takes two inputs:\n",
    "\n",
    "  * `value`: the number you want to normalize\n",
    "  * `data`: a list of numbers (dataset)\n",
    "* Returns the normalized value of `value` using min-max normalization.\n",
    "\n",
    "---"
   ]
  },
  {
   "cell_type": "code",
   "execution_count": null,
   "id": "2399470e-ce29-465b-9e28-31f31de71e49",
   "metadata": {},
   "outputs": [],
   "source": []
  }
 ],
 "metadata": {
  "kernelspec": {
   "display_name": "Python 3 (ipykernel)",
   "language": "python",
   "name": "python3"
  },
  "language_info": {
   "codemirror_mode": {
    "name": "ipython",
    "version": 3
   },
   "file_extension": ".py",
   "mimetype": "text/x-python",
   "name": "python",
   "nbconvert_exporter": "python",
   "pygments_lexer": "ipython3",
   "version": "3.13.5"
  }
 },
 "nbformat": 4,
 "nbformat_minor": 5
}
