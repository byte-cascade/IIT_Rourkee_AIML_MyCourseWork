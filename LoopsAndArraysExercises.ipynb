{
 "cells": [
  {
   "cell_type": "markdown",
   "id": "7abafecd-2cc8-4c4e-aa2d-db6b63700ecd",
   "metadata": {},
   "source": [
    "\n",
    "### Definitions of common functions utilized in code below"
   ]
  },
  {
   "cell_type": "code",
   "execution_count": 2,
   "id": "398344bf-0611-4dd6-b5a9-80c6ad04ac4b",
   "metadata": {},
   "outputs": [],
   "source": [
    "\n",
    "##  Definitions of all common functions being utilized below\n",
    "\n",
    "def log_msg(message):   # lightweight logging to screen if DEBUG variable is defined and set to true\n",
    "    is_debug_on = locals().get(\"DEBUG\", globals().get(\"DEBUG\", False))\n",
    "    if is_debug_on:\n",
    "        print(message)\n"
   ]
  },
  {
   "cell_type": "markdown",
   "id": "ac8078a9-f9c9-480e-8ba2-8f0c8774ca1a",
   "metadata": {},
   "source": [
    "## Find Minimum and Maximum of a List\n",
    "\n",
    "### Explanation:\n",
    "\n",
    "When you have a list of numbers, sometimes you want to know the **smallest number** (called the *minimum*) and the **largest number** (called the *maximum*) in that list.\n",
    "For example, in the list `[5, 8, 2, 10, 3]`, the smallest number is `2` and the largest number is `10`.\n",
    "\n",
    "Finding the minimum and maximum is useful in many real-world cases. For example:\n",
    "\n",
    "* In exam scores, the minimum score shows the lowest marks obtained by a student, and the maximum shows the highest marks.\n",
    "* In weather data, the minimum temperature tells the coldest reading of the day, and the maximum shows the hottest reading.\n",
    "\n",
    "---\n",
    "\n",
    "### Exercise:\n",
    "\n",
    "Write a function `find_min_max(numbers)` that takes a list of numbers as input and returns a tuple `(minimum, maximum)`.\n",
    "\n",
    "---\n",
    "\n",
    "### Example:\n",
    "\n",
    "```python\n",
    "find_min_max([5, 8, 2, 10, 3])  \n",
    "# Output: (2, 10)\n",
    "\n",
    "find_min_max([7, 7, 7, 7])  \n",
    "# Output: (7, 7)"
   ]
  },
  {
   "cell_type": "code",
   "execution_count": 3,
   "id": "c2824f3d-7978-479b-b702-05611b04139f",
   "metadata": {},
   "outputs": [],
   "source": [
    "def find_min_max_numbers(numbers_list):\n",
    "    min_number = 0\n",
    "    max_number = 0\n",
    "    \n",
    "    for i in numbers_list:\n",
    "        if i <= min_number or min_number == 0:\n",
    "            min_number = i\n",
    "        elif i >= max_number :\n",
    "            max_number = i\n",
    "\n",
    "    return min_number, max_number\n"
   ]
  },
  {
   "cell_type": "code",
   "execution_count": 4,
   "id": "0aee7584-d7cf-4bef-9b16-63a9c6b3bbc6",
   "metadata": {},
   "outputs": [
    {
     "data": {
      "text/plain": [
       "(3, 35)"
      ]
     },
     "execution_count": 4,
     "metadata": {},
     "output_type": "execute_result"
    }
   ],
   "source": [
    "find_min_max_numbers([10,35,3,6,15,21])"
   ]
  },
  {
   "cell_type": "markdown",
   "id": "f874d096-637e-4463-8195-a7ceff240828",
   "metadata": {},
   "source": [
    "## Min-Max Normalization\n",
    "\n",
    "### Explanation:\n",
    "\n",
    "When we have numbers that are very different in scale (like exam scores out of 100 and salaries in thousands), it becomes hard to compare them directly.\n",
    "**Min-Max Normalization** is a way to rescale numbers so that they fall in a fixed range, usually **0 to 1**.\n",
    "\n",
    "The formula is:\n",
    "\n",
    "$$\n",
    "\\text{normalized value} = \\frac{(x - \\min)}{(\\max - \\min)}\n",
    "$$\n",
    "\n",
    "* `x` = the original value\n",
    "* `min` = the smallest value in the dataset\n",
    "* `max` = the largest value in the dataset\n",
    "\n",
    "For example, if your dataset is `[10, 20, 30]` and you want to normalize `20`:\n",
    "\n",
    "$$\n",
    "\\frac{20 - 10}{30 - 10} = \\frac{10}{20} = 0.5\n",
    "$$\n",
    "\n",
    "So the normalized value is **0.5**.\n",
    "\n",
    "---\n",
    "\n",
    "### Exercise:\n",
    "\n",
    "Write a function `min_max_normalize(value, data)` that:\n",
    "\n",
    "* Takes two inputs:\n",
    "\n",
    "  * `value`: the number you want to normalize\n",
    "  * `data`: a list of numbers (dataset)\n",
    "* Returns the normalized value of `value` using min-max normalization.\n",
    "\n",
    "---"
   ]
  },
  {
   "cell_type": "code",
   "execution_count": 5,
   "id": "2399470e-ce29-465b-9e28-31f31de71e49",
   "metadata": {},
   "outputs": [],
   "source": [
    "def min_max_normalize( original_value, dataset ):\n",
    "    minimum, maximum = find_min_max_numbers( dataset)\n",
    "\n",
    "    log_msg(f\"Minimum : {minimum}, Maximum : {maximum}\")\n",
    "    normalized_value = (original_value - minimum) / (maximum - minimum)\n",
    "    return normalized_value"
   ]
  },
  {
   "cell_type": "code",
   "execution_count": 6,
   "id": "06f42d59-a9c3-4863-a15e-f73c747af678",
   "metadata": {},
   "outputs": [
    {
     "name": "stdout",
     "output_type": "stream",
     "text": [
      "Minimum : 10, Maximum : 30\n",
      "0.5\n",
      "Minimum : 2, Maximum : 1000\n",
      "0.0030060\n"
     ]
    }
   ],
   "source": [
    "DEBUG=True\n",
    "\n",
    "normalized_value = min_max_normalize( 20, [10, 20, 30] )\n",
    "print(normalized_value)\n",
    "\n",
    "normalized_value = min_max_normalize( 5, [2, 10, 60, 100, 1000, 45, 75] )\n",
    "print(\"%.7f\" % normalized_value)\n"
   ]
  },
  {
   "cell_type": "code",
   "execution_count": null,
   "id": "7a526281-7e2e-40ea-918c-3a4c59689ab6",
   "metadata": {},
   "outputs": [],
   "source": [
    "\n"
   ]
  },
  {
   "cell_type": "markdown",
   "id": "095fcdfb-c016-4d6c-bc7f-43c1b59b196f",
   "metadata": {},
   "source": [
    "## Extra exercise in Normalization\n",
    "### Imagine : \n",
    "Imagine Scoring marks for CAT is in a range from :   1 to 500  \n",
    "Imagine Scoring marks for GMAT is in a range from :  1 to 200  \n",
    "\n",
    "5 students appeared for CAT and 5 for GMAT.  Normalize their scores so that they can be ranked against each other.  \n",
    "\n",
    "gmat_scores = [ 120, 190, 80, 150, 160 ]  -- scores of 5 students who appeared for GMAT  \n",
    "cat_scores = [ 450, 300, 275, 480, 425 ]  -- scores of 5 students who appeared for CAT  \n"
   ]
  },
  {
   "cell_type": "code",
   "execution_count": 7,
   "id": "c3c288a5-6d5d-40d1-9728-8a8146386c8d",
   "metadata": {},
   "outputs": [
    {
     "name": "stdout",
     "output_type": "stream",
     "text": [
      "GMAT scores :  Min : 80,   Max : 190\n",
      "Minimum : 80, Maximum : 190\n",
      "    Original value : 120,  Normalized Value : 0.36363636363636365\n",
      "Minimum : 80, Maximum : 190\n",
      "    Original value : 190,  Normalized Value : 1.0\n",
      "Minimum : 80, Maximum : 190\n",
      "    Original value : 80,  Normalized Value : 0.0\n",
      "Minimum : 80, Maximum : 190\n",
      "    Original value : 150,  Normalized Value : 0.6363636363636364\n",
      "Minimum : 80, Maximum : 190\n",
      "    Original value : 160,  Normalized Value : 0.7272727272727273\n",
      "CAT scores :  Min : 275,   Max : 480\n",
      "Minimum : 275, Maximum : 480\n",
      "    Original value : 450,  Normalized Value : 0.8536585365853658\n",
      "Minimum : 275, Maximum : 480\n",
      "    Original value : 300,  Normalized Value : 0.12195121951219512\n",
      "Minimum : 275, Maximum : 480\n",
      "    Original value : 275,  Normalized Value : 0.0\n",
      "Minimum : 275, Maximum : 480\n",
      "    Original value : 480,  Normalized Value : 1.0\n",
      "Minimum : 275, Maximum : 480\n",
      "    Original value : 425,  Normalized Value : 0.7317073170731707\n"
     ]
    }
   ],
   "source": [
    "\n",
    "# Later on convert the lists below as dictionary with Student name & score as name value pairs\n",
    "# Then list and rank them together using their normalized scores\n",
    "\n",
    "gmat_scores = [ 120, 190, 80, 150, 160 ]\n",
    "cat_scores = [ 450, 300, 275, 480, 425 ]\n",
    "\n",
    "min, max = find_min_max_numbers(gmat_scores)\n",
    "print(f\"GMAT scores :  Min : {min},   Max : {max}\")\n",
    "for i in gmat_scores:\n",
    "    normalized_value = min_max_normalize(i, gmat_scores)\n",
    "    print(f\"    Original value : {i},  Normalized Value : {normalized_value}\")\n",
    "\n",
    "min, max = find_min_max_numbers(cat_scores)\n",
    "print(f\"CAT scores :  Min : {min},   Max : {max}\")\n",
    "for i in cat_scores:\n",
    "    normalized_value = min_max_normalize( i, cat_scores )\n",
    "    print(f\"    Original value : {i},  Normalized Value : {normalized_value}\")\n",
    "\n"
   ]
  },
  {
   "cell_type": "code",
   "execution_count": null,
   "id": "7d763057-21e0-4457-954f-f9b3eea6fcb8",
   "metadata": {},
   "outputs": [],
   "source": []
  }
 ],
 "metadata": {
  "kernelspec": {
   "display_name": "Python 3 (ipykernel)",
   "language": "python",
   "name": "python3"
  },
  "language_info": {
   "codemirror_mode": {
    "name": "ipython",
    "version": 3
   },
   "file_extension": ".py",
   "mimetype": "text/x-python",
   "name": "python",
   "nbconvert_exporter": "python",
   "pygments_lexer": "ipython3",
   "version": "3.13.5"
  }
 },
 "nbformat": 4,
 "nbformat_minor": 5
}
