{
 "cells": [
  {
   "cell_type": "code",
   "execution_count": null,
   "id": "b4431d56-ed51-4617-b5e3-ec2661883e98",
   "metadata": {},
   "outputs": [],
   "source": []
  },
  {
   "cell_type": "code",
   "execution_count": 1,
   "id": "4704319f-1bd9-46ae-b97e-6539f11d320a",
   "metadata": {},
   "outputs": [
    {
     "ename": "ModuleNotFoundError",
     "evalue": "No module named 'numpy'",
     "output_type": "error",
     "traceback": [
      "\u001b[31m---------------------------------------------------------------------------\u001b[39m",
      "\u001b[31mModuleNotFoundError\u001b[39m                       Traceback (most recent call last)",
      "\u001b[36mCell\u001b[39m\u001b[36m \u001b[39m\u001b[32mIn[1]\u001b[39m\u001b[32m, line 2\u001b[39m\n\u001b[32m      1\u001b[39m \u001b[38;5;28;01mfrom\u001b[39;00m\u001b[38;5;250m \u001b[39m\u001b[34;01mopenai\u001b[39;00m\u001b[38;5;250m \u001b[39m\u001b[38;5;28;01mimport\u001b[39;00m OpenAI\n\u001b[32m----> \u001b[39m\u001b[32m2\u001b[39m \u001b[38;5;28;01mimport\u001b[39;00m\u001b[38;5;250m \u001b[39m\u001b[34;01mnumpy\u001b[39;00m\u001b[38;5;250m \u001b[39m\u001b[38;5;28;01mas\u001b[39;00m\u001b[38;5;250m \u001b[39m\u001b[34;01mnp\u001b[39;00m\n\u001b[32m      4\u001b[39m \u001b[38;5;66;03m# Initialize client\u001b[39;00m\n\u001b[32m      5\u001b[39m client = OpenAI(api_key=KEY)\n",
      "\u001b[31mModuleNotFoundError\u001b[39m: No module named 'numpy'"
     ]
    }
   ],
   "source": [
    "from openai import OpenAI\n",
    "import numpy as np\n",
    "\n",
    "# Initialize client\n",
    "client = OpenAI(api_key=KEY)\n",
    "\n",
    "# Menu\n",
    "menu = [\"Food\", \"Travel\", \"Clothes\", \"Games\", \"Read\"]\n",
    "\n",
    "# Function to get embeddings\n",
    "def get_embedding(text, model=\"text-embedding-3-small\"):\n",
    "    response = client.embeddings.create(\n",
    "        model=model,\n",
    "        input=text\n",
    "    )\n",
    "    return np.array(response.data[0].embedding)\n",
    "\n",
    "# Precompute menu embeddings\n",
    "menu_embeddings = []\n",
    "for item in menu:\n",
    "    embedding = get_embedding(item)\n",
    "    menu_embeddings.append(embedding)\n",
    "\n",
    "import math\n",
    "# Function to find closest menu index using Euclidean distance\n",
    "def get_menu_index(user_input):\n",
    "    user_embedding = get_embedding(user_input)\n",
    "    \n",
    "    distances = []\n",
    "    for menu_embedding in menu_embeddings:\n",
    "        # sqrt((x1-x2)**2 + (y1-y2)**2 + (z1-z2)**2)....1536\n",
    "        distance = math.sqrt(sum((user_embedding - menu_embedding)**2))\n",
    "        distances.append(distance)\n",
    "    \n",
    "    min_index = 0\n",
    "    min_distance = distances[0]\n",
    "    for i in range(1, len(distances)):\n",
    "        if distances[i] < min_distance:\n",
    "            min_distance = distances[i]\n",
    "            min_index = i\n",
    "    \n",
    "    return min_index\n",
    "\n",
    "# Test\n",
    "print(get_menu_index(\"Eat\"))                     # Expected output: 0 (Food)\n",
    "print(get_menu_index(\"I want to visit Toronto\")) # Expected output: 1 (Travel)\n"
   ]
  },
  {
   "cell_type": "code",
   "execution_count": 2,
   "id": "56f963c0-3318-4cc9-a05f-c36e383e5eeb",
   "metadata": {},
   "outputs": [
    {
     "name": "stdout",
     "output_type": "stream",
     "text": [
      "Python:  3.13.5 | packaged by Anaconda, Inc. | (main, Jun 12 2025, 11:23:37) [Clang 14.0.6 ]\n",
      "Kernel:  /Users/shukantchakravarty/DevelopmentSoftware/anaconda3/envs/IITR_AI_ML_Course/bin/python\n",
      "Import error:  'str' object has no attribute 'getattr'\n"
     ]
    }
   ],
   "source": [
    "import sys\n",
    "print(\"Python: \", sys.version)\n",
    "print(\"Kernel: \", sys.executable)\n",
    "\n",
    "try:\n",
    "    import openai\n",
    "    print(\"openai version: \". getattr((openai, \"__version__\", \"unknown\")) )\n",
    "except Exception as e:\n",
    "    print(\"Import error: \", e)"
   ]
  },
  {
   "cell_type": "code",
   "execution_count": null,
   "id": "14e3b554-8363-48fc-ae9e-2fbd7381919b",
   "metadata": {},
   "outputs": [],
   "source": []
  }
 ],
 "metadata": {
  "kernelspec": {
   "display_name": "Python 3 (ipykernel)",
   "language": "python",
   "name": "python3"
  },
  "language_info": {
   "codemirror_mode": {
    "name": "ipython",
    "version": 3
   },
   "file_extension": ".py",
   "mimetype": "text/x-python",
   "name": "python",
   "nbconvert_exporter": "python",
   "pygments_lexer": "ipython3",
   "version": "3.13.5"
  }
 },
 "nbformat": 4,
 "nbformat_minor": 5
}
